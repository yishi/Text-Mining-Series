{
 "metadata": {
  "name": "",
  "signature": "sha256:b3f927061d6ee5b3d08ba872d7434fc646625543eb7cdc6d779d1e3b8aef27ca"
 },
 "nbformat": 3,
 "nbformat_minor": 0,
 "worksheets": [
  {
   "cells": [
    {
     "cell_type": "markdown",
     "metadata": {},
     "source": [
      "## Text Mining Series 3: Automatic Summarization using TextRank by Python\n",
      "\n",
      "I got the idea from **[this essay](http://joshbohde.com/blog/document-summarization)**.\n",
      "\n",
      "If you want to known more details, you could click above link."
     ]
    },
    {
     "cell_type": "markdown",
     "metadata": {},
     "source": [
      "### Sentence Splitting"
     ]
    },
    {
     "cell_type": "code",
     "collapsed": false,
     "input": [
      "from nltk.tokenize.punkt import PunktSentenceTokenizer"
     ],
     "language": "python",
     "metadata": {},
     "outputs": [],
     "prompt_number": 1
    },
    {
     "cell_type": "code",
     "collapsed": false,
     "input": [
      "document = \"\"\"To Sherlock Holmes she is always the woman. I have\n",
      "seldom heard him mention her under any other name. In his eyes she\n",
      "eclipses and predominates the whole of her sex. It was not that he\n",
      "felt any emotion akin to love for Irene Adler. All emotions, and that\n",
      "one particularly, were abhorrent to his cold, precise but admirably\n",
      "balanced mind. He was, I take it, the most perfect reasoning and\n",
      "observing machine that the world has seen, but as a lover he would\n",
      "have placed himself in a false position. He never spoke of the softer\n",
      "passions, save with a gibe and a sneer. They were admirable things for\n",
      "the observer-excellent for drawing the veil from men's motives and\n",
      "actions. But for the trained reasoner to admit such intrusions into\n",
      "his own delicate and finely adjusted temperament was to introduce a\n",
      "distracting factor which might throw a doubt upon all his mental\n",
      "results. Grit in a sensitive instrument, or a crack in one of his own\n",
      "high-power lenses, would not be more disturbing than a strong emotion\n",
      "in a nature such as his. And yet there was but one woman to him, and\n",
      "that woman was the late Irene Adler, of dubious and questionable\n",
      "memory.\n",
      "\"\"\""
     ],
     "language": "python",
     "metadata": {},
     "outputs": [],
     "prompt_number": 2
    },
    {
     "cell_type": "code",
     "collapsed": false,
     "input": [
      "document = ' '.join(document.strip().split('\\n'))"
     ],
     "language": "python",
     "metadata": {},
     "outputs": [],
     "prompt_number": 3
    },
    {
     "cell_type": "code",
     "collapsed": false,
     "input": [
      "document"
     ],
     "language": "python",
     "metadata": {},
     "outputs": [
      {
       "metadata": {},
       "output_type": "pyout",
       "prompt_number": 4,
       "text": [
        "\"To Sherlock Holmes she is always the woman. I have seldom heard him mention her under any other name. In his eyes she eclipses and predominates the whole of her sex. It was not that he felt any emotion akin to love for Irene Adler. All emotions, and that one particularly, were abhorrent to his cold, precise but admirably balanced mind. He was, I take it, the most perfect reasoning and observing machine that the world has seen, but as a lover he would have placed himself in a false position. He never spoke of the softer passions, save with a gibe and a sneer. They were admirable things for the observer-excellent for drawing the veil from men's motives and actions. But for the trained reasoner to admit such intrusions into his own delicate and finely adjusted temperament was to introduce a distracting factor which might throw a doubt upon all his mental results. Grit in a sensitive instrument, or a crack in one of his own high-power lenses, would not be more disturbing than a strong emotion in a nature such as his. And yet there was but one woman to him, and that woman was the late Irene Adler, of dubious and questionable memory.\""
       ]
      }
     ],
     "prompt_number": 4
    },
    {
     "cell_type": "code",
     "collapsed": false,
     "input": [
      "sentence_tokenizer = PunktSentenceTokenizer()\n",
      "sentences = sentence_tokenizer.tokenize(document)\n",
      "sentences"
     ],
     "language": "python",
     "metadata": {},
     "outputs": [
      {
       "metadata": {},
       "output_type": "pyout",
       "prompt_number": 5,
       "text": [
        "['To Sherlock Holmes she is always the woman.',\n",
        " 'I have seldom heard him mention her under any other name.',\n",
        " 'In his eyes she eclipses and predominates the whole of her sex.',\n",
        " 'It was not that he felt any emotion akin to love for Irene Adler.',\n",
        " 'All emotions, and that one particularly, were abhorrent to his cold, precise but admirably balanced mind.',\n",
        " 'He was, I take it, the most perfect reasoning and observing machine that the world has seen, but as a lover he would have placed himself in a false position.',\n",
        " 'He never spoke of the softer passions, save with a gibe and a sneer.',\n",
        " \"They were admirable things for the observer-excellent for drawing the veil from men's motives and actions.\",\n",
        " 'But for the trained reasoner to admit such intrusions into his own delicate and finely adjusted temperament was to introduce a distracting factor which might throw a doubt upon all his mental results.',\n",
        " 'Grit in a sensitive instrument, or a crack in one of his own high-power lenses, would not be more disturbing than a strong emotion in a nature such as his.',\n",
        " 'And yet there was but one woman to him, and that woman was the late Irene Adler, of dubious and questionable memory.']"
       ]
      }
     ],
     "prompt_number": 5
    },
    {
     "cell_type": "code",
     "collapsed": false,
     "input": [
      "len(sentences)"
     ],
     "language": "python",
     "metadata": {},
     "outputs": [
      {
       "metadata": {},
       "output_type": "pyout",
       "prompt_number": 6,
       "text": [
        "11"
       ]
      }
     ],
     "prompt_number": 6
    },
    {
     "cell_type": "markdown",
     "metadata": {},
     "source": [
      "### Bag of Words"
     ]
    },
    {
     "cell_type": "code",
     "collapsed": false,
     "input": [
      "from sklearn.feature_extraction.text import CountVectorizer\n",
      "c = CountVectorizer()\n",
      "bow_matrix = c.fit_transform(sentences)\n",
      "bow_matrix.toarray()"
     ],
     "language": "python",
     "metadata": {},
     "outputs": [
      {
       "metadata": {},
       "output_type": "pyout",
       "prompt_number": 7,
       "text": [
        "array([[0, 0, 0, ..., 0, 0, 0],\n",
        "       [0, 0, 0, ..., 0, 0, 0],\n",
        "       [0, 0, 0, ..., 0, 0, 0],\n",
        "       ..., \n",
        "       [0, 0, 1, ..., 0, 0, 0],\n",
        "       [0, 0, 0, ..., 0, 1, 0],\n",
        "       [0, 0, 0, ..., 0, 0, 1]], dtype=int64)"
       ]
      }
     ],
     "prompt_number": 7
    },
    {
     "cell_type": "markdown",
     "metadata": {},
     "source": [
      "### Converting to a Graph "
     ]
    },
    {
     "cell_type": "code",
     "collapsed": false,
     "input": [
      "from sklearn.feature_extraction.text import TfidfTransformer\n",
      "normalized_matrix = TfidfTransformer().fit_transform(bow_matrix)"
     ],
     "language": "python",
     "metadata": {},
     "outputs": [],
     "prompt_number": 8
    },
    {
     "cell_type": "code",
     "collapsed": false,
     "input": [
      "similarity_graph = normalized_matrix * normalized_matrix.T\n",
      "similarity_graph.toarray()"
     ],
     "language": "python",
     "metadata": {},
     "outputs": [
      {
       "metadata": {},
       "output_type": "pyout",
       "prompt_number": 9,
       "text": [
        "array([[ 1.        ,  0.        ,  0.13737879,  0.04767903,  0.04305016,\n",
        "         0.04345599,  0.03330044,  0.05261648,  0.07798958,  0.        ,\n",
        "         0.20047419],\n",
        "       [ 0.        ,  1.        ,  0.0842143 ,  0.07819597,  0.        ,\n",
        "         0.05171612,  0.        ,  0.        ,  0.        ,  0.        ,\n",
        "         0.05807146],\n",
        "       [ 0.13737879,  0.0842143 ,  1.        ,  0.        ,  0.07004069,\n",
        "         0.09648614,  0.1069042 ,  0.06701793,  0.09437203,  0.20474295,\n",
        "         0.1197599 ],\n",
        "       [ 0.04767903,  0.07819597,  0.        ,  1.        ,  0.07558987,\n",
        "         0.18678911,  0.05853972,  0.09249592,  0.10892262,  0.09110741,\n",
        "         0.24159019],\n",
        "       [ 0.04305016,  0.        ,  0.07004069,  0.07558987,  1.        ,\n",
        "         0.07055583,  0.02370685,  0.07272032,  0.17253418,  0.08262451,\n",
        "         0.17789849],\n",
        "       [ 0.04345599,  0.05171612,  0.09648614,  0.18678911,  0.07055583,\n",
        "         1.        ,  0.12952649,  0.06859301,  0.06837492,  0.13015945,\n",
        "         0.15423071],\n",
        "       [ 0.03330044,  0.        ,  0.1069042 ,  0.05853972,  0.02370685,\n",
        "         0.12952649,  1.        ,  0.06307559,  0.03194234,  0.02852116,\n",
        "         0.11271501],\n",
        "       [ 0.05261648,  0.        ,  0.06701793,  0.09249592,  0.07272032,\n",
        "         0.06859301,  0.06307559,  1.        ,  0.09411725,  0.        ,\n",
        "         0.07702234],\n",
        "       [ 0.07798958,  0.        ,  0.09437203,  0.10892262,  0.17253418,\n",
        "         0.06837492,  0.03194234,  0.09411725,  1.        ,  0.12388421,\n",
        "         0.14327969],\n",
        "       [ 0.        ,  0.        ,  0.20474295,  0.09110741,  0.08262451,\n",
        "         0.13015945,  0.02852116,  0.        ,  0.12388421,  1.        ,\n",
        "         0.04706138],\n",
        "       [ 0.20047419,  0.05807146,  0.1197599 ,  0.24159019,  0.17789849,\n",
        "         0.15423071,  0.11271501,  0.07702234,  0.14327969,  0.04706138,\n",
        "         1.        ]])"
       ]
      }
     ],
     "prompt_number": 9
    },
    {
     "cell_type": "markdown",
     "metadata": {},
     "source": [
      "### Page rank"
     ]
    },
    {
     "cell_type": "code",
     "collapsed": false,
     "input": [
      "import networkx as nx\n",
      "nx_graph = nx.from_scipy_sparse_matrix(similarity_graph)\n",
      "scores = nx.pagerank(nx_graph)\n",
      "scores"
     ],
     "language": "python",
     "metadata": {},
     "outputs": [
      {
       "metadata": {},
       "output_type": "pyout",
       "prompt_number": 10,
       "text": [
        "{0: 0.083850085970473498,\n",
        " 1: 0.075281441703240998,\n",
        " 2: 0.098385602908782108,\n",
        " 3: 0.097442706690059666,\n",
        " 4: 0.089265664661431321,\n",
        " 5: 0.098256154950726426,\n",
        " 6: 0.082611226442511093,\n",
        " 7: 0.082718453245989143,\n",
        " 8: 0.094336171635092864,\n",
        " 9: 0.086368227893767829,\n",
        " 10: 0.11148426389792516}"
       ]
      }
     ],
     "prompt_number": 10
    },
    {
     "cell_type": "code",
     "collapsed": false,
     "input": [
      "ranked = sorted(((scores[i],s) for i,s in enumerate(sentences)),\n",
      "                reverse=True)\n",
      "ranked"
     ],
     "language": "python",
     "metadata": {},
     "outputs": [
      {
       "metadata": {},
       "output_type": "pyout",
       "prompt_number": 11,
       "text": [
        "[(0.11148426389792516,\n",
        "  'And yet there was but one woman to him, and that woman was the late Irene Adler, of dubious and questionable memory.'),\n",
        " (0.098385602908782108,\n",
        "  'In his eyes she eclipses and predominates the whole of her sex.'),\n",
        " (0.098256154950726426,\n",
        "  'He was, I take it, the most perfect reasoning and observing machine that the world has seen, but as a lover he would have placed himself in a false position.'),\n",
        " (0.097442706690059666,\n",
        "  'It was not that he felt any emotion akin to love for Irene Adler.'),\n",
        " (0.094336171635092864,\n",
        "  'But for the trained reasoner to admit such intrusions into his own delicate and finely adjusted temperament was to introduce a distracting factor which might throw a doubt upon all his mental results.'),\n",
        " (0.089265664661431321,\n",
        "  'All emotions, and that one particularly, were abhorrent to his cold, precise but admirably balanced mind.'),\n",
        " (0.086368227893767829,\n",
        "  'Grit in a sensitive instrument, or a crack in one of his own high-power lenses, would not be more disturbing than a strong emotion in a nature such as his.'),\n",
        " (0.083850085970473498, 'To Sherlock Holmes she is always the woman.'),\n",
        " (0.082718453245989143,\n",
        "  \"They were admirable things for the observer-excellent for drawing the veil from men's motives and actions.\"),\n",
        " (0.082611226442511093,\n",
        "  'He never spoke of the softer passions, save with a gibe and a sneer.'),\n",
        " (0.075281441703240998,\n",
        "  'I have seldom heard him mention her under any other name.')]"
       ]
      }
     ],
     "prompt_number": 11
    },
    {
     "cell_type": "markdown",
     "metadata": {},
     "source": [
      "### Combined "
     ]
    },
    {
     "cell_type": "code",
     "collapsed": false,
     "input": [
      "import networkx as nx\n",
      "import numpy as np\n",
      " \n",
      "from nltk.tokenize.punkt import PunktSentenceTokenizer\n",
      "from sklearn.feature_extraction.text import TfidfTransformer, CountVectorizer"
     ],
     "language": "python",
     "metadata": {},
     "outputs": [],
     "prompt_number": 12
    },
    {
     "cell_type": "code",
     "collapsed": false,
     "input": [
      "def textrank(document):\n",
      "    sentence_tokenizer = PunktSentenceTokenizer()\n",
      "    sentences = sentence_tokenizer.tokenize(document)\n",
      " \n",
      "    bow_matrix = CountVectorizer().fit_transform(sentences)\n",
      "    normalized = TfidfTransformer().fit_transform(bow_matrix)\n",
      " \n",
      "    similarity_graph = normalized * normalized.T\n",
      " \n",
      "    nx_graph = nx.from_scipy_sparse_matrix(similarity_graph)\n",
      "    scores = nx.pagerank(nx_graph)\n",
      "    return sorted(((scores[i],s) for i,s in enumerate(sentences)),\n",
      "                  reverse=True)"
     ],
     "language": "python",
     "metadata": {},
     "outputs": [],
     "prompt_number": 13
    },
    {
     "cell_type": "code",
     "collapsed": false,
     "input": [
      "textrank(document)"
     ],
     "language": "python",
     "metadata": {},
     "outputs": [
      {
       "metadata": {},
       "output_type": "pyout",
       "prompt_number": 14,
       "text": [
        "[(0.11148426389792516,\n",
        "  'And yet there was but one woman to him, and that woman was the late Irene Adler, of dubious and questionable memory.'),\n",
        " (0.098385602908782108,\n",
        "  'In his eyes she eclipses and predominates the whole of her sex.'),\n",
        " (0.098256154950726426,\n",
        "  'He was, I take it, the most perfect reasoning and observing machine that the world has seen, but as a lover he would have placed himself in a false position.'),\n",
        " (0.097442706690059666,\n",
        "  'It was not that he felt any emotion akin to love for Irene Adler.'),\n",
        " (0.094336171635092864,\n",
        "  'But for the trained reasoner to admit such intrusions into his own delicate and finely adjusted temperament was to introduce a distracting factor which might throw a doubt upon all his mental results.'),\n",
        " (0.089265664661431321,\n",
        "  'All emotions, and that one particularly, were abhorrent to his cold, precise but admirably balanced mind.'),\n",
        " (0.086368227893767829,\n",
        "  'Grit in a sensitive instrument, or a crack in one of his own high-power lenses, would not be more disturbing than a strong emotion in a nature such as his.'),\n",
        " (0.083850085970473498, 'To Sherlock Holmes she is always the woman.'),\n",
        " (0.082718453245989143,\n",
        "  \"They were admirable things for the observer-excellent for drawing the veil from men's motives and actions.\"),\n",
        " (0.082611226442511093,\n",
        "  'He never spoke of the softer passions, save with a gibe and a sneer.'),\n",
        " (0.075281441703240998,\n",
        "  'I have seldom heard him mention her under any other name.')]"
       ]
      }
     ],
     "prompt_number": 14
    }
   ],
   "metadata": {}
  }
 ]
}