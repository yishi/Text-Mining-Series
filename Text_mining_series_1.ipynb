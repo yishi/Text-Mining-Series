{
 "metadata": {
  "name": "",
  "signature": "sha256:4da4efad8f05fc25e450bf040b09d8f346d0860789c6389836cc99a210a01d43"
 },
 "nbformat": 3,
 "nbformat_minor": 0,
 "worksheets": [
  {
   "cells": [
    {
     "cell_type": "markdown",
     "metadata": {},
     "source": [
      "## Text Mining Series 1: Predict Defect Name From Defect Description Text in Chinese by Python"
     ]
    },
    {
     "cell_type": "code",
     "collapsed": false,
     "input": [
      "import pandas as pd\n",
      "import numpy as np\n",
      "\n",
      "import jieba\n",
      "jieba.load_userdict('D:/application/R/library/jiebaRD/dict/user.dict.electricity.utf8')\n",
      "\n",
      "from sklearn.feature_extraction.text import CountVectorizer\n",
      "\n",
      "from sklearn.cross_validation import train_test_split\n",
      "from sklearn.cross_validation import cross_val_score\n",
      "from sklearn.metrics import accuracy_score\n",
      "\n",
      "from sklearn.linear_model import LogisticRegression\n",
      "from sklearn.naive_bayes import MultinomialNB\n",
      "from sklearn.linear_model import RidgeClassifierCV\n",
      "from sklearn.ensemble import (RandomForestClassifier, ExtraTreesClassifier, \n",
      "                              GradientBoostingClassifier, AdaBoostClassifier)\n",
      "from sklearn import clone\n",
      "from sklearn.grid_search import GridSearchCV"
     ],
     "language": "python",
     "metadata": {},
     "outputs": [
      {
       "output_type": "stream",
       "stream": "stderr",
       "text": [
        "Building prefix dict from the default dictionary ...\n"
       ]
      },
      {
       "output_type": "stream",
       "stream": "stderr",
       "text": [
        "DEBUG:jieba:Building prefix dict from the default dictionary ...\n"
       ]
      },
      {
       "output_type": "stream",
       "stream": "stderr",
       "text": [
        "Loading model from cache c:\\users\\kongbe~1\\appdata\\local\\temp\\jieba.cache\n"
       ]
      },
      {
       "output_type": "stream",
       "stream": "stderr",
       "text": [
        "DEBUG:jieba:Loading model from cache c:\\users\\kongbe~1\\appdata\\local\\temp\\jieba.cache\n"
       ]
      },
      {
       "output_type": "stream",
       "stream": "stderr",
       "text": [
        "Loading model cost 0.400 seconds.\n"
       ]
      },
      {
       "output_type": "stream",
       "stream": "stderr",
       "text": [
        "DEBUG:jieba:Loading model cost 0.400 seconds.\n"
       ]
      },
      {
       "output_type": "stream",
       "stream": "stderr",
       "text": [
        "Prefix dict has been built succesfully.\n"
       ]
      },
      {
       "output_type": "stream",
       "stream": "stderr",
       "text": [
        "DEBUG:jieba:Prefix dict has been built succesfully.\n"
       ]
      }
     ],
     "prompt_number": 1
    },
    {
     "cell_type": "markdown",
     "metadata": {},
     "source": [
      "### 1. Get the data"
     ]
    },
    {
     "cell_type": "code",
     "collapsed": false,
     "input": [
      "data = pd.read_csv('defect_name_20161209.csv', encoding = 'gbk')"
     ],
     "language": "python",
     "metadata": {},
     "outputs": [],
     "prompt_number": 2
    },
    {
     "cell_type": "code",
     "collapsed": false,
     "input": [
      "data.head()"
     ],
     "language": "python",
     "metadata": {},
     "outputs": [
      {
       "html": [
        "<div style=\"max-height:1000px;max-width:1500px;overflow:auto;\">\n",
        "<table border=\"1\" class=\"dataframe\">\n",
        "  <thead>\n",
        "    <tr style=\"text-align: right;\">\n",
        "      <th></th>\n",
        "      <th>\u53e5\u5b50\u7f16\u7801</th>\n",
        "      <th>\u539f\u53e5\u5b50</th>\n",
        "      <th>\u7279\u5f81\u8bcd1</th>\n",
        "      <th>\u7279\u5f81\u8bcd2</th>\n",
        "      <th>\u7279\u5f81\u8bcd3</th>\n",
        "      <th>\u7f3a\u9677\u90e8\u4f4d1</th>\n",
        "      <th>\u7f3a\u9677\u90e8\u4f4d2</th>\n",
        "      <th>\u7f3a\u9677\u90e8\u4f4d3</th>\n",
        "    </tr>\n",
        "  </thead>\n",
        "  <tbody>\n",
        "    <tr>\n",
        "      <th>0</th>\n",
        "      <td> 1</td>\n",
        "      <td> \u63a7\u5236\u5f02\u5e38/\u5de1\u89c6\u53d1\u73b0\u725b\u4ece\u7532\u76f4\u6d41\u67811\u6362\u6d41\u53d8 Y/Y A\u76f8\u5728\u7ebf\u51c0\u6cb9\u88c5\u7f6e1\u7535\u673a\u5b58\u5728\u5f02\u54cd\uff0c\u73b0\u573a\u68c0\u67e5\u6ee4\u6cb9...</td>\n",
        "      <td> \u5728\u7ebf\u51c0\u6cb9\u88c5\u7f6e</td>\n",
        "      <td> \u6ee4\u6cb9\u673a</td>\n",
        "      <td> \u5176\u4ed6</td>\n",
        "      <td> \u672c\u4f53</td>\n",
        "      <td> \u6ee4\u6cb9\u673a</td>\n",
        "      <td> \u5176\u4ed6</td>\n",
        "    </tr>\n",
        "    <tr>\n",
        "      <th>1</th>\n",
        "      <td> 2</td>\n",
        "      <td>                   \u6cb9\u8272\u8c31\u5f02\u5e38/500kV \u7ad9\u7528\u53d8\u6cb9\u8272\u8c315\u670810\u65e5\u8d77\u65e0\u6570\u636e\u66f4\u65b0\u3002/</td>\n",
        "      <td>    \u6cb9\u8272\u8c31</td>\n",
        "      <td>  \u5176\u4ed6</td>\n",
        "      <td> \u5176\u4ed6</td>\n",
        "      <td> \u672c\u4f53</td>\n",
        "      <td>  \u5176\u4ed6</td>\n",
        "      <td> \u5176\u4ed6</td>\n",
        "    </tr>\n",
        "    <tr>\n",
        "      <th>2</th>\n",
        "      <td> 3</td>\n",
        "      <td>                        \u6cb9\u8272\u8c31\u5f02\u5e38/500kV \u7ad9\u7528\u53d8\u65e0\u6cd5\u8bfb\u53d6\u6cb9\u8272\u8c31\u6570\u636e\u3002/</td>\n",
        "      <td>    \u6cb9\u8272\u8c31</td>\n",
        "      <td>  \u5176\u4ed6</td>\n",
        "      <td> \u5176\u4ed6</td>\n",
        "      <td> \u672c\u4f53</td>\n",
        "      <td>  \u5176\u4ed6</td>\n",
        "      <td> \u5176\u4ed6</td>\n",
        "    </tr>\n",
        "    <tr>\n",
        "      <th>3</th>\n",
        "      <td> 4</td>\n",
        "      <td> \u5176\u4ed6/\u53d8\u7535\u7ad9\u540e\u53f0\u6cb9\u6e29\u4e8c\u5e94\u6539\u4e3a\u7ed5\u7ec4\u6e29\u5ea6\uff0cOPEN3000\u65e0\u663e\u793a\u7ed5\u7ec4\u6e29\u5ea6\uff08\u73b0\u573a\u672c\u4f53\u7ea2\u5916\u6d4b\u6e29\u6e29\u5ea6\u4e3a...</td>\n",
        "      <td>     \u5176\u4ed6</td>\n",
        "      <td>  \u5176\u4ed6</td>\n",
        "      <td> \u5176\u4ed6</td>\n",
        "      <td> \u672c\u4f53</td>\n",
        "      <td>  \u5176\u4ed6</td>\n",
        "      <td> \u5176\u4ed6</td>\n",
        "    </tr>\n",
        "    <tr>\n",
        "      <th>4</th>\n",
        "      <td> 5</td>\n",
        "      <td> \u5176\u4ed6/12\u53f0\u6362\u6d41\u53d8\u722c\u68af\u201c\u7981\u6b62\u6500\u722c\u201d\u6321\u677f\u5747\u9501\u4e0d\u4e0a\u6216\u672a\u5b89\u88c5\u3002/\u5df2\u5c06\u722c\u68af\u201c\u7981\u6b62\u6500\u722c\u201d\u6321\u677f\u9501\u5934\u8c03\u6574\u597d...</td>\n",
        "      <td>     \u5176\u4ed6</td>\n",
        "      <td>  \u5176\u4ed6</td>\n",
        "      <td> \u5176\u4ed6</td>\n",
        "      <td> \u672c\u4f53</td>\n",
        "      <td>  \u5176\u4ed6</td>\n",
        "      <td> \u5176\u4ed6</td>\n",
        "    </tr>\n",
        "  </tbody>\n",
        "</table>\n",
        "</div>"
       ],
       "metadata": {},
       "output_type": "pyout",
       "prompt_number": 3,
       "text": [
        "   \u53e5\u5b50\u7f16\u7801                                                \u539f\u53e5\u5b50    \u7279\u5f81\u8bcd1 \u7279\u5f81\u8bcd2 \u7279\u5f81\u8bcd3  \\\n",
        "0     1  \u63a7\u5236\u5f02\u5e38/\u5de1\u89c6\u53d1\u73b0\u725b\u4ece\u7532\u76f4\u6d41\u67811\u6362\u6d41\u53d8 Y/Y A\u76f8\u5728\u7ebf\u51c0\u6cb9\u88c5\u7f6e1\u7535\u673a\u5b58\u5728\u5f02\u54cd\uff0c\u73b0\u573a\u68c0\u67e5\u6ee4\u6cb9...  \u5728\u7ebf\u51c0\u6cb9\u88c5\u7f6e  \u6ee4\u6cb9\u673a   \u5176\u4ed6   \n",
        "1     2                    \u6cb9\u8272\u8c31\u5f02\u5e38/500kV \u7ad9\u7528\u53d8\u6cb9\u8272\u8c315\u670810\u65e5\u8d77\u65e0\u6570\u636e\u66f4\u65b0\u3002/     \u6cb9\u8272\u8c31   \u5176\u4ed6   \u5176\u4ed6   \n",
        "2     3                         \u6cb9\u8272\u8c31\u5f02\u5e38/500kV \u7ad9\u7528\u53d8\u65e0\u6cd5\u8bfb\u53d6\u6cb9\u8272\u8c31\u6570\u636e\u3002/     \u6cb9\u8272\u8c31   \u5176\u4ed6   \u5176\u4ed6   \n",
        "3     4  \u5176\u4ed6/\u53d8\u7535\u7ad9\u540e\u53f0\u6cb9\u6e29\u4e8c\u5e94\u6539\u4e3a\u7ed5\u7ec4\u6e29\u5ea6\uff0cOPEN3000\u65e0\u663e\u793a\u7ed5\u7ec4\u6e29\u5ea6\uff08\u73b0\u573a\u672c\u4f53\u7ea2\u5916\u6d4b\u6e29\u6e29\u5ea6\u4e3a...      \u5176\u4ed6   \u5176\u4ed6   \u5176\u4ed6   \n",
        "4     5  \u5176\u4ed6/12\u53f0\u6362\u6d41\u53d8\u722c\u68af\u201c\u7981\u6b62\u6500\u722c\u201d\u6321\u677f\u5747\u9501\u4e0d\u4e0a\u6216\u672a\u5b89\u88c5\u3002/\u5df2\u5c06\u722c\u68af\u201c\u7981\u6b62\u6500\u722c\u201d\u6321\u677f\u9501\u5934\u8c03\u6574\u597d...      \u5176\u4ed6   \u5176\u4ed6   \u5176\u4ed6   \n",
        "\n",
        "  \u7f3a\u9677\u90e8\u4f4d1 \u7f3a\u9677\u90e8\u4f4d2 \u7f3a\u9677\u90e8\u4f4d3  \n",
        "0    \u672c\u4f53   \u6ee4\u6cb9\u673a    \u5176\u4ed6  \n",
        "1    \u672c\u4f53    \u5176\u4ed6    \u5176\u4ed6  \n",
        "2    \u672c\u4f53    \u5176\u4ed6    \u5176\u4ed6  \n",
        "3    \u672c\u4f53    \u5176\u4ed6    \u5176\u4ed6  \n",
        "4    \u672c\u4f53    \u5176\u4ed6    \u5176\u4ed6  "
       ]
      }
     ],
     "prompt_number": 3
    },
    {
     "cell_type": "code",
     "collapsed": false,
     "input": [
      "data.columns"
     ],
     "language": "python",
     "metadata": {},
     "outputs": [
      {
       "metadata": {},
       "output_type": "pyout",
       "prompt_number": 4,
       "text": [
        "Index([u'\u53e5\u5b50\u7f16\u7801', u'\u539f\u53e5\u5b50', u'\u7279\u5f81\u8bcd1', u'\u7279\u5f81\u8bcd2', u'\u7279\u5f81\u8bcd3', u'\u7f3a\u9677\u90e8\u4f4d1', u'\u7f3a\u9677\u90e8\u4f4d2', u'\u7f3a\u9677\u90e8\u4f4d3'], dtype='object')"
       ]
      }
     ],
     "prompt_number": 4
    },
    {
     "cell_type": "code",
     "collapsed": false,
     "input": [
      "text = data[u'\u539f\u53e5\u5b50']"
     ],
     "language": "python",
     "metadata": {},
     "outputs": [],
     "prompt_number": 5
    },
    {
     "cell_type": "markdown",
     "metadata": {},
     "source": [
      "### 2. Chinese text segmentation"
     ]
    },
    {
     "cell_type": "code",
     "collapsed": false,
     "input": [
      "print text[0]"
     ],
     "language": "python",
     "metadata": {},
     "outputs": [
      {
       "output_type": "stream",
       "stream": "stdout",
       "text": [
        "\u63a7\u5236\u5f02\u5e38/\u5de1\u89c6\u53d1\u73b0\u725b\u4ece\u7532\u76f4\u6d41\u67811\u6362\u6d41\u53d8 Y/Y A\u76f8\u5728\u7ebf\u51c0\u6cb9\u88c5\u7f6e1\u7535\u673a\u5b58\u5728\u5f02\u54cd\uff0c\u73b0\u573a\u68c0\u67e5\u6ee4\u6cb9\u673a\u538b\u529b\u548c\u7ea2\u5916\u6d4b\u6e29\u5747\u672a\u53d1\u73b0\u5f02\u5e38\u3002/\n"
       ]
      }
     ],
     "prompt_number": 6
    },
    {
     "cell_type": "code",
     "collapsed": false,
     "input": [
      "' '.join(jieba.cut(text[0]))"
     ],
     "language": "python",
     "metadata": {},
     "outputs": [
      {
       "metadata": {},
       "output_type": "pyout",
       "prompt_number": 7,
       "text": [
        "u'\\u63a7\\u5236 \\u5f02\\u5e38 / \\u5de1\\u89c6 \\u53d1\\u73b0 \\u725b \\u4ece \\u7532 \\u76f4\\u6d41 \\u6781 1 \\u6362 \\u6d41\\u53d8   Y / Y   A \\u76f8 \\u5728\\u7ebf\\u51c0\\u6cb9\\u88c5\\u7f6e 1 \\u7535\\u673a \\u5b58\\u5728 \\u5f02\\u54cd \\uff0c \\u73b0\\u573a \\u68c0\\u67e5 \\u6ee4\\u6cb9\\u673a \\u538b\\u529b \\u548c \\u7ea2\\u5916 \\u6d4b\\u6e29 \\u5747 \\u672a \\u53d1\\u73b0\\u5f02\\u5e38 \\u3002 /'"
       ]
      }
     ],
     "prompt_number": 7
    },
    {
     "cell_type": "code",
     "collapsed": false,
     "input": [
      "print(' '.join(jieba.cut(text[0])))"
     ],
     "language": "python",
     "metadata": {},
     "outputs": [
      {
       "output_type": "stream",
       "stream": "stdout",
       "text": [
        "\u63a7\u5236 \u5f02\u5e38 / \u5de1\u89c6 \u53d1\u73b0 \u725b \u4ece \u7532 \u76f4\u6d41 \u6781 1 \u6362 \u6d41\u53d8   Y / Y   A \u76f8 \u5728\u7ebf\u51c0\u6cb9\u88c5\u7f6e 1 \u7535\u673a \u5b58\u5728 \u5f02\u54cd \uff0c \u73b0\u573a \u68c0\u67e5 \u6ee4\u6cb9\u673a \u538b\u529b \u548c \u7ea2\u5916 \u6d4b\u6e29 \u5747 \u672a \u53d1\u73b0\u5f02\u5e38 \u3002 /\n"
       ]
      }
     ],
     "prompt_number": 8
    },
    {
     "cell_type": "code",
     "collapsed": false,
     "input": [
      "text_seg = [' '.join(jieba.cut(x)) for x in text]"
     ],
     "language": "python",
     "metadata": {},
     "outputs": [],
     "prompt_number": 9
    },
    {
     "cell_type": "code",
     "collapsed": false,
     "input": [
      "len(text_seg)"
     ],
     "language": "python",
     "metadata": {},
     "outputs": [
      {
       "metadata": {},
       "output_type": "pyout",
       "prompt_number": 10,
       "text": [
        "1661"
       ]
      }
     ],
     "prompt_number": 10
    },
    {
     "cell_type": "code",
     "collapsed": false,
     "input": [
      "print(text_seg[0])"
     ],
     "language": "python",
     "metadata": {},
     "outputs": [
      {
       "output_type": "stream",
       "stream": "stdout",
       "text": [
        "\u63a7\u5236 \u5f02\u5e38 / \u5de1\u89c6 \u53d1\u73b0 \u725b \u4ece \u7532 \u76f4\u6d41 \u6781 1 \u6362 \u6d41\u53d8   Y / Y   A \u76f8 \u5728\u7ebf\u51c0\u6cb9\u88c5\u7f6e 1 \u7535\u673a \u5b58\u5728 \u5f02\u54cd \uff0c \u73b0\u573a \u68c0\u67e5 \u6ee4\u6cb9\u673a \u538b\u529b \u548c \u7ea2\u5916 \u6d4b\u6e29 \u5747 \u672a \u53d1\u73b0\u5f02\u5e38 \u3002 /\n"
       ]
      }
     ],
     "prompt_number": 11
    },
    {
     "cell_type": "markdown",
     "metadata": {},
     "source": [
      "### 3. Make Term-Document Matrix(X)"
     ]
    },
    {
     "cell_type": "code",
     "collapsed": false,
     "input": [
      "vectorizer = CountVectorizer(min_df = 1)\n",
      "vectorizer"
     ],
     "language": "python",
     "metadata": {},
     "outputs": [
      {
       "metadata": {},
       "output_type": "pyout",
       "prompt_number": 12,
       "text": [
        "CountVectorizer(analyzer=u'word', binary=False, charset=None,\n",
        "        charset_error=None, decode_error=u'strict',\n",
        "        dtype=<type 'numpy.int64'>, encoding=u'utf-8', input=u'content',\n",
        "        lowercase=True, max_df=1.0, max_features=None, min_df=1,\n",
        "        ngram_range=(1, 1), preprocessor=None, stop_words=None,\n",
        "        strip_accents=None, token_pattern=u'(?u)\\\\b\\\\w\\\\w+\\\\b',\n",
        "        tokenizer=None, vocabulary=None)"
       ]
      }
     ],
     "prompt_number": 12
    },
    {
     "cell_type": "code",
     "collapsed": false,
     "input": [
      "x = vectorizer.fit_transform(text_seg).toarray()"
     ],
     "language": "python",
     "metadata": {},
     "outputs": [],
     "prompt_number": 13
    },
    {
     "cell_type": "code",
     "collapsed": false,
     "input": [
      "x.shape"
     ],
     "language": "python",
     "metadata": {},
     "outputs": [
      {
       "metadata": {},
       "output_type": "pyout",
       "prompt_number": 14,
       "text": [
        "(1661L, 4549L)"
       ]
      }
     ],
     "prompt_number": 14
    },
    {
     "cell_type": "markdown",
     "metadata": {},
     "source": [
      "### 4. Get responding variable(Y)"
     ]
    },
    {
     "cell_type": "code",
     "collapsed": false,
     "input": [
      "y_1 = data[u'\u7f3a\u9677\u90e8\u4f4d1']"
     ],
     "language": "python",
     "metadata": {},
     "outputs": [],
     "prompt_number": 15
    },
    {
     "cell_type": "code",
     "collapsed": false,
     "input": [
      "y_1.head()"
     ],
     "language": "python",
     "metadata": {},
     "outputs": [
      {
       "metadata": {},
       "output_type": "pyout",
       "prompt_number": 16,
       "text": [
        "0    \u672c\u4f53\n",
        "1    \u672c\u4f53\n",
        "2    \u672c\u4f53\n",
        "3    \u672c\u4f53\n",
        "4    \u672c\u4f53\n",
        "Name: \u7f3a\u9677\u90e8\u4f4d1, dtype: object"
       ]
      }
     ],
     "prompt_number": 16
    },
    {
     "cell_type": "code",
     "collapsed": false,
     "input": [
      "# transform y to numerical\n",
      "y_1_temp = pd.DataFrame({'y_1': y_1.unique(), 'y_1_id': np.arange(1, len(y_1.unique()) + 1)})"
     ],
     "language": "python",
     "metadata": {},
     "outputs": [],
     "prompt_number": 17
    },
    {
     "cell_type": "code",
     "collapsed": false,
     "input": [
      "y_1_temp.shape"
     ],
     "language": "python",
     "metadata": {},
     "outputs": [
      {
       "metadata": {},
       "output_type": "pyout",
       "prompt_number": 18,
       "text": [
        "(6, 2)"
       ]
      }
     ],
     "prompt_number": 18
    },
    {
     "cell_type": "code",
     "collapsed": false,
     "input": [
      "# similar string, one is correct, one has a space in the end\n",
      "y_1_temp"
     ],
     "language": "python",
     "metadata": {},
     "outputs": [
      {
       "html": [
        "<div style=\"max-height:1000px;max-width:1500px;overflow:auto;\">\n",
        "<table border=\"1\" class=\"dataframe\">\n",
        "  <thead>\n",
        "    <tr style=\"text-align: right;\">\n",
        "      <th></th>\n",
        "      <th>y_1</th>\n",
        "      <th>y_1_id</th>\n",
        "    </tr>\n",
        "  </thead>\n",
        "  <tbody>\n",
        "    <tr>\n",
        "      <th>0</th>\n",
        "      <td>      \u672c\u4f53</td>\n",
        "      <td> 1</td>\n",
        "    </tr>\n",
        "    <tr>\n",
        "      <th>1</th>\n",
        "      <td>      \u5957\u7ba1</td>\n",
        "      <td> 2</td>\n",
        "    </tr>\n",
        "    <tr>\n",
        "      <th>2</th>\n",
        "      <td>     \u672c\u4f53 </td>\n",
        "      <td> 3</td>\n",
        "    </tr>\n",
        "    <tr>\n",
        "      <th>3</th>\n",
        "      <td> \u975e\u7535\u91cf\u4fdd\u62a4\u88c5\u7f6e</td>\n",
        "      <td> 4</td>\n",
        "    </tr>\n",
        "    <tr>\n",
        "      <th>4</th>\n",
        "      <td>    \u51b7\u5374\u7cfb\u7edf</td>\n",
        "      <td> 5</td>\n",
        "    </tr>\n",
        "    <tr>\n",
        "      <th>5</th>\n",
        "      <td>    \u8c03\u538b\u5f00\u5173</td>\n",
        "      <td> 6</td>\n",
        "    </tr>\n",
        "  </tbody>\n",
        "</table>\n",
        "</div>"
       ],
       "metadata": {},
       "output_type": "pyout",
       "prompt_number": 19,
       "text": [
        "       y_1  y_1_id\n",
        "0       \u672c\u4f53       1\n",
        "1       \u5957\u7ba1       2\n",
        "2      \u672c\u4f53        3\n",
        "3  \u975e\u7535\u91cf\u4fdd\u62a4\u88c5\u7f6e       4\n",
        "4     \u51b7\u5374\u7cfb\u7edf       5\n",
        "5     \u8c03\u538b\u5f00\u5173       6"
       ]
      }
     ],
     "prompt_number": 19
    },
    {
     "cell_type": "code",
     "collapsed": false,
     "input": [
      "# delete the space in the end of the string\n",
      "data['y_1'] = pd.Series([i.rstrip() for i in y_1])"
     ],
     "language": "python",
     "metadata": {},
     "outputs": [],
     "prompt_number": 20
    },
    {
     "cell_type": "code",
     "collapsed": false,
     "input": [
      "# transform y to numerical\n",
      "y_1_temp = pd.DataFrame({'y_1': data['y_1'].unique(), 'y_1_id': np.arange(1, len(data['y_1'].unique()) + 1)})\n",
      "y_1_temp"
     ],
     "language": "python",
     "metadata": {},
     "outputs": [
      {
       "html": [
        "<div style=\"max-height:1000px;max-width:1500px;overflow:auto;\">\n",
        "<table border=\"1\" class=\"dataframe\">\n",
        "  <thead>\n",
        "    <tr style=\"text-align: right;\">\n",
        "      <th></th>\n",
        "      <th>y_1</th>\n",
        "      <th>y_1_id</th>\n",
        "    </tr>\n",
        "  </thead>\n",
        "  <tbody>\n",
        "    <tr>\n",
        "      <th>0</th>\n",
        "      <td>      \u672c\u4f53</td>\n",
        "      <td> 1</td>\n",
        "    </tr>\n",
        "    <tr>\n",
        "      <th>1</th>\n",
        "      <td>      \u5957\u7ba1</td>\n",
        "      <td> 2</td>\n",
        "    </tr>\n",
        "    <tr>\n",
        "      <th>2</th>\n",
        "      <td> \u975e\u7535\u91cf\u4fdd\u62a4\u88c5\u7f6e</td>\n",
        "      <td> 3</td>\n",
        "    </tr>\n",
        "    <tr>\n",
        "      <th>3</th>\n",
        "      <td>    \u51b7\u5374\u7cfb\u7edf</td>\n",
        "      <td> 4</td>\n",
        "    </tr>\n",
        "    <tr>\n",
        "      <th>4</th>\n",
        "      <td>    \u8c03\u538b\u5f00\u5173</td>\n",
        "      <td> 5</td>\n",
        "    </tr>\n",
        "  </tbody>\n",
        "</table>\n",
        "</div>"
       ],
       "metadata": {},
       "output_type": "pyout",
       "prompt_number": 21,
       "text": [
        "       y_1  y_1_id\n",
        "0       \u672c\u4f53       1\n",
        "1       \u5957\u7ba1       2\n",
        "2  \u975e\u7535\u91cf\u4fdd\u62a4\u88c5\u7f6e       3\n",
        "3     \u51b7\u5374\u7cfb\u7edf       4\n",
        "4     \u8c03\u538b\u5f00\u5173       5"
       ]
      }
     ],
     "prompt_number": 21
    },
    {
     "cell_type": "code",
     "collapsed": false,
     "input": [
      "y_1_value = data.merge(y_1_temp, on = 'y_1', how = 'left')['y_1_id']"
     ],
     "language": "python",
     "metadata": {},
     "outputs": [],
     "prompt_number": 22
    },
    {
     "cell_type": "code",
     "collapsed": false,
     "input": [
      "y_1_value.head()"
     ],
     "language": "python",
     "metadata": {},
     "outputs": [
      {
       "metadata": {},
       "output_type": "pyout",
       "prompt_number": 23,
       "text": [
        "0    1\n",
        "1    1\n",
        "2    1\n",
        "3    1\n",
        "4    1\n",
        "Name: y_1_id, dtype: int32"
       ]
      }
     ],
     "prompt_number": 23
    },
    {
     "cell_type": "code",
     "collapsed": false,
     "input": [
      "y_1_value_list = [i for i in y_1_value.values]"
     ],
     "language": "python",
     "metadata": {},
     "outputs": [],
     "prompt_number": 24
    },
    {
     "cell_type": "code",
     "collapsed": false,
     "input": [
      "len(y_1_value_list)"
     ],
     "language": "python",
     "metadata": {},
     "outputs": [
      {
       "metadata": {},
       "output_type": "pyout",
       "prompt_number": 25,
       "text": [
        "1661"
       ]
      }
     ],
     "prompt_number": 25
    },
    {
     "cell_type": "markdown",
     "metadata": {},
     "source": [
      "### 5. Split data to train and test"
     ]
    },
    {
     "cell_type": "code",
     "collapsed": false,
     "input": [
      "x_train, x_test, y_train, y_test = train_test_split(x, y_1_value_list, test_size = 0.2, random_state = 1234L)"
     ],
     "language": "python",
     "metadata": {},
     "outputs": [],
     "prompt_number": 26
    },
    {
     "cell_type": "markdown",
     "metadata": {},
     "source": [
      "### 6. Model"
     ]
    },
    {
     "cell_type": "markdown",
     "metadata": {},
     "source": [
      "#### 6.1 Fit Single model --- Logistic Regrssion"
     ]
    },
    {
     "cell_type": "code",
     "collapsed": false,
     "input": [
      "clf_logis = LogisticRegression(C = 1, penalty = 'l1')"
     ],
     "language": "python",
     "metadata": {},
     "outputs": [],
     "prompt_number": 27
    },
    {
     "cell_type": "code",
     "collapsed": false,
     "input": [
      "cross_val_score(clf_logis, x_train, y_train, cv = 3)"
     ],
     "language": "python",
     "metadata": {},
     "outputs": [
      {
       "metadata": {},
       "output_type": "pyout",
       "prompt_number": 28,
       "text": [
        "array([ 0.78828829,  0.83257919,  0.84615385])"
       ]
      }
     ],
     "prompt_number": 28
    },
    {
     "cell_type": "code",
     "collapsed": false,
     "input": [
      "y_pred = clf_logis.fit(x_train,y_train).predict(x_test)\n",
      "accuracy_score(y_test, y_pred)"
     ],
     "language": "python",
     "metadata": {},
     "outputs": [
      {
       "metadata": {},
       "output_type": "pyout",
       "prompt_number": 29,
       "text": [
        "0.8288288288288288"
       ]
      }
     ],
     "prompt_number": 29
    },
    {
     "cell_type": "markdown",
     "metadata": {},
     "source": [
      "#### 6.2 Fit Single model --- Naive Bayes"
     ]
    },
    {
     "cell_type": "code",
     "collapsed": false,
     "input": [
      "clf_bayes = MultinomialNB()"
     ],
     "language": "python",
     "metadata": {},
     "outputs": [],
     "prompt_number": 30
    },
    {
     "cell_type": "code",
     "collapsed": false,
     "input": [
      "cross_val_score(clf_bayes, x_train, y_train, cv = 3)"
     ],
     "language": "python",
     "metadata": {},
     "outputs": [
      {
       "metadata": {},
       "output_type": "pyout",
       "prompt_number": 31,
       "text": [
        "array([ 0.73198198,  0.74660633,  0.760181  ])"
       ]
      }
     ],
     "prompt_number": 31
    },
    {
     "cell_type": "code",
     "collapsed": false,
     "input": [
      "y_pred = clf_bayes.fit(x_train,y_train).predict(x_test)\n",
      "accuracy_score(y_test, y_pred)"
     ],
     "language": "python",
     "metadata": {},
     "outputs": [
      {
       "metadata": {},
       "output_type": "pyout",
       "prompt_number": 32,
       "text": [
        "0.77477477477477474"
       ]
      }
     ],
     "prompt_number": 32
    },
    {
     "cell_type": "markdown",
     "metadata": {},
     "source": [
      "#### 6.3 Fit Single model --- Ridge Classifier"
     ]
    },
    {
     "cell_type": "code",
     "collapsed": false,
     "input": [
      "clf_ridge = RidgeClassifierCV()"
     ],
     "language": "python",
     "metadata": {},
     "outputs": [],
     "prompt_number": 33
    },
    {
     "cell_type": "code",
     "collapsed": false,
     "input": [
      "clf_ridge.fit(x_train, y_train).score(x_test, y_test)"
     ],
     "language": "python",
     "metadata": {},
     "outputs": [
      {
       "metadata": {},
       "output_type": "pyout",
       "prompt_number": 34,
       "text": [
        "0.79879879879879878"
       ]
      }
     ],
     "prompt_number": 34
    },
    {
     "cell_type": "code",
     "collapsed": false,
     "input": [
      "cross_val_score(clf_ridge, x_train, y_train, cv = 3)"
     ],
     "language": "python",
     "metadata": {},
     "outputs": [
      {
       "metadata": {},
       "output_type": "pyout",
       "prompt_number": 35,
       "text": [
        "array([ 0.76576577,  0.78959276,  0.80316742])"
       ]
      }
     ],
     "prompt_number": 35
    },
    {
     "cell_type": "code",
     "collapsed": false,
     "input": [
      "y_pred = clf_ridge.fit(x_train,y_train).predict(x_test)\n",
      "accuracy_score(y_test, y_pred)"
     ],
     "language": "python",
     "metadata": {},
     "outputs": [
      {
       "metadata": {},
       "output_type": "pyout",
       "prompt_number": 36,
       "text": [
        "0.79879879879879878"
       ]
      }
     ],
     "prompt_number": 36
    },
    {
     "cell_type": "markdown",
     "metadata": {},
     "source": [
      "**Logistic Regression is best, because it has the biggest accuracy score (0.828) on the test set.**"
     ]
    },
    {
     "cell_type": "markdown",
     "metadata": {},
     "source": [
      "#### 6.4 Fit Ensemble model"
     ]
    },
    {
     "cell_type": "code",
     "collapsed": false,
     "input": [
      "models = [RandomForestClassifier(), ExtraTreesClassifier(), GradientBoostingClassifier(), AdaBoostClassifier()]"
     ],
     "language": "python",
     "metadata": {},
     "outputs": [],
     "prompt_number": 37
    },
    {
     "cell_type": "code",
     "collapsed": false,
     "input": [
      "for model in models:\n",
      "    clf = clone(model)\n",
      "    print('Model',model)\n",
      "    print('Score', model.fit(x_train, y_train).score(x_test, y_test))\n",
      "    print"
     ],
     "language": "python",
     "metadata": {},
     "outputs": [
      {
       "output_type": "stream",
       "stream": "stdout",
       "text": [
        "('Model', RandomForestClassifier(bootstrap=True, compute_importances=None,\n",
        "            criterion='gini', max_depth=None, max_features='auto',\n",
        "            max_leaf_nodes=None, min_density=None, min_samples_leaf=1,\n",
        "            min_samples_split=2, n_estimators=10, n_jobs=1,\n",
        "            oob_score=False, random_state=None, verbose=0))\n",
        "('Score', 0.76876876876876876)"
       ]
      },
      {
       "output_type": "stream",
       "stream": "stdout",
       "text": [
        "\n",
        "\n",
        "('Model', ExtraTreesClassifier(bootstrap=False, compute_importances=None,\n",
        "           criterion='gini', max_depth=None, max_features='auto',\n",
        "           max_leaf_nodes=None, min_density=None, min_samples_leaf=1,\n",
        "           min_samples_split=2, n_estimators=10, n_jobs=1, oob_score=False,\n",
        "           random_state=None, verbose=0))\n",
        "('Score', 0.77477477477477474)"
       ]
      },
      {
       "output_type": "stream",
       "stream": "stdout",
       "text": [
        "\n",
        "\n",
        "('Model', GradientBoostingClassifier(init=None, learning_rate=0.1, loss='deviance',\n",
        "              max_depth=3, max_features=None, max_leaf_nodes=None,\n",
        "              min_samples_leaf=1, min_samples_split=2, n_estimators=100,\n",
        "              random_state=None, subsample=1.0, verbose=0,\n",
        "              warm_start=False))\n",
        "('Score', 0.82282282282282282)"
       ]
      },
      {
       "output_type": "stream",
       "stream": "stdout",
       "text": [
        "\n",
        "\n",
        "('Model', AdaBoostClassifier(algorithm='SAMME.R', base_estimator=None,\n",
        "          learning_rate=1.0, n_estimators=50, random_state=None))\n",
        "('Score', 0.72372372372372373)"
       ]
      },
      {
       "output_type": "stream",
       "stream": "stdout",
       "text": [
        "\n",
        "\n"
       ]
      }
     ],
     "prompt_number": 38
    },
    {
     "cell_type": "markdown",
     "metadata": {},
     "source": [
      "**Gradient Boosting Classifier in ensembel models is best, because it has the biggest accuracy score (0.822) on the test set.**\n",
      "\n",
      "**Simper is better, so we choose logistic regression as our best model.**"
     ]
    },
    {
     "cell_type": "markdown",
     "metadata": {},
     "source": [
      "#### 6.5 Tune model"
     ]
    },
    {
     "cell_type": "code",
     "collapsed": false,
     "input": [
      "model_logis = GridSearchCV(LogisticRegression(), {'C' : [0.01, 0.05, 0.1, 0.5, 1, 5, 10]}, cv = 3)\n",
      "model_logis.fit(x_train, y_train)\n",
      "print(\"Best parameters set found on development set:\")\n",
      "print(model_logis.best_params_)\n",
      "print\n",
      "print(\"Grid scores on development set:\")\n",
      "for params, mean_score, scores in model_logis.grid_scores_:\n",
      "    print(\"%0.3f (+/-%0.03f) for %r\"\n",
      "            % (mean_score, scores.std() * 2, params))\n",
      "model_logis.score(x_test, y_test)"
     ],
     "language": "python",
     "metadata": {},
     "outputs": [
      {
       "output_type": "stream",
       "stream": "stdout",
       "text": [
        "Best parameters set found on development set:\n",
        "{'C': 1}\n",
        "\n",
        "Grid scores on development set:\n",
        "0.771 (+/-0.027) for {'C': 0.01}\n",
        "0.785 (+/-0.034) for {'C': 0.05}\n",
        "0.786 (+/-0.034) for {'C': 0.1}\n",
        "0.803 (+/-0.024) for {'C': 0.5}\n",
        "0.804 (+/-0.021) for {'C': 1}\n",
        "0.803 (+/-0.006) for {'C': 5}\n",
        "0.803 (+/-0.003) for {'C': 10}\n"
       ]
      },
      {
       "metadata": {},
       "output_type": "pyout",
       "prompt_number": 39,
       "text": [
        "0.80780780780780781"
       ]
      }
     ],
     "prompt_number": 39
    }
   ],
   "metadata": {}
  }
 ]
}